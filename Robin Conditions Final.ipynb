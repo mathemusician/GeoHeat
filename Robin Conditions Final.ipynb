{
 "cells": [
  {
   "cell_type": "code",
   "execution_count": 1,
   "id": "345ca5a9",
   "metadata": {},
   "outputs": [
    {
     "name": "stderr",
     "output_type": "stream",
     "text": [
      "100%|███████████████████████████████████████| 100/100 [00:00<00:00, 2482.56it/s]\n"
     ]
    }
   ],
   "source": [
    "# Finite Difference Method\n",
    "import numpy as np\n",
    "from scipy.sparse import diags\n",
    "from tqdm import tqdm\n",
    "\n",
    "\n",
    "K_R = 2.596 # (J/s*m*C) thermal conductivity of rock\n",
    "U = 120 # (J/s*m^2*C) overall heat transfer coefficient between rock and water\n",
    "A = 10**3*10**3 # (m^2) area for heat transfer between rock and water\n",
    "m = 145 # (kg/s) mass flowrate of water\n",
    "rho_W = 1000 # kg/m^3 density of water\n",
    "c_W = 4184 # (J/kg*C) heat capacity of water\n",
    "rho_R = 2650 # (kg/m^3) density of rock\n",
    "c_R = 1050 # (J/kg*K) heat capacity of rock\n",
    "\n",
    "t_final =  100 # (years) maximum amount of time\n",
    "L = 40 # (m) maximum length of rock\n",
    "\n",
    "T_W0 = 65 # (deg. C) initial water temperature\n",
    "T_R0 = 300 # (deg. C) final rock temperature\n",
    "\n",
    "\n",
    "t_final = 31536000 * t_final # time in seconds\n",
    "dt = t_final/100\n",
    "dx = L/100\n",
    "\n",
    "w = m * c_W / U / A\n",
    "kappa = K_R / rho_R / c_R\n",
    "h = -U * A / K_R * (w / (w + 1/2))\n",
    "s = kappa * dt / dx**2\n",
    "\n",
    "\n",
    "# Backwards Euler Implicit Method\n",
    "t_array = np.arange(0, t_final+dt, dt)\n",
    "x_array = np.arange(0, L+dx, dx)\n",
    "\n",
    "len_t = len(t_array)\n",
    "len_x = len(x_array)\n",
    "\n",
    "T = np.zeros([len_t, len_x]) # temperature matrix\n",
    "\n",
    "# initial boundary condition\n",
    "T[0,:] = T_R0 - T_W0\n",
    "\n",
    "\n",
    "# backward implicit\n",
    "for t in tqdm(range(0, len_t-1)):\n",
    "    A = diags([-s, 1+2*s, -s], [-1, 0, 1], shape=(len_x, len_x)).toarray()\n",
    "    B = T[t,:]\n",
    "    \n",
    "    # boundary condition on left side\n",
    "    A[0,0] = A[0,0] - s * (1 + h*dx)\n",
    "    \n",
    "    # boundary condition on right side\n",
    "    A[-1,-1] = A[-1,-1] - s\n",
    "    \n",
    "    T[t+1,:] = np.linalg.solve(A,B)\n",
    "\n",
    "# add initial temperature of water\n",
    "T = T + T_W0"
   ]
  },
  {
   "cell_type": "code",
   "execution_count": 2,
   "id": "bfafe2c1",
   "metadata": {},
   "outputs": [
    {
     "data": {
      "application/vnd.jupyter.widget-view+json": {
       "model_id": "98d881df93f04d7dbdf5ada8a6a4e03f",
       "version_major": 2,
       "version_minor": 0
      },
      "text/plain": [
       "interactive(children=(FloatSlider(value=50.0, description='t_', step=1.0), Output()), _dom_classes=('widget-in…"
      ]
     },
     "metadata": {},
     "output_type": "display_data"
    }
   ],
   "source": [
    "import matplotlib.pyplot as plt\n",
    "from ipywidgets import interact\n",
    "\n",
    "@interact(t_=(0,t_final/31536000,t_final/31536000/100))\n",
    "def plot(t_):\n",
    "    time = int(t_*31536000/t_final*(len_t-1))\n",
    "    plt.plot(\n",
    "        x_array,\n",
    "        T[time,:]\n",
    "    )\n",
    "    plt.ylim(T_W0,T_R0)\n",
    "    plt.show()"
   ]
  },
  {
   "cell_type": "code",
   "execution_count": 3,
   "id": "62e415e1",
   "metadata": {},
   "outputs": [
    {
     "data": {
      "text/plain": [
       "[<matplotlib.lines.Line2D at 0x7ff318573610>]"
      ]
     },
     "execution_count": 3,
     "metadata": {},
     "output_type": "execute_result"
    },
    {
     "data": {
      "image/png": "[encoded data removed]",
      "text/plain": [
       "<Figure size 432x288 with 1 Axes>"
      ]
     },
     "metadata": {
      "needs_background": "light"
     },
     "output_type": "display_data"
    }
   ],
   "source": [
    "# plot average rock temperature over time\n",
    "plt.plot(\n",
    "    t_array/31536000,\n",
    "    np.average(T,axis=1)\n",
    ")"
   ]
  },
  {
   "cell_type": "code",
   "execution_count": 4,
   "id": "ea1d3223",
   "metadata": {},
   "outputs": [
    {
     "data": {
      "text/latex": [
       "$\\displaystyle \\left(299.211289920126 \\sin{\\left(0.039269906993858 x \\right)} + 2.53934732968718 \\cdot 10^{-5} \\cos{\\left(0.039269906993858 x \\right)}\\right) e^{- 1.43876299925069 \\cdot 10^{-9} t} + \\left(99.7370815488355 \\sin{\\left(0.117809720981574 x \\right)} + 2.53934694545887 \\cdot 10^{-5} \\cos{\\left(0.117809720981574 x \\right)}\\right) e^{- 1.29488669932562 \\cdot 10^{-8} t} + \\left(59.8422670387347 \\sin{\\left(0.196349534969289 x \\right)} + 2.53934771391485 \\cdot 10^{-5} \\cos{\\left(0.196349534969289 x \\right)}\\right) e^{- 3.5969074981267 \\cdot 10^{-8} t} + \\left(42.744457053262 \\sin{\\left(0.274889348957004 x \\right)} + 2.53934656123012 \\cdot 10^{-5} \\cos{\\left(0.274889348957004 x \\right)}\\right) e^{- 7.0499386963283 \\cdot 10^{-8} t} + \\left(33.2457089407928 \\sin{\\left(0.353429162944719 x \\right)} + 2.5393480981418 \\cdot 10^{-5} \\cos{\\left(0.353429162944719 x \\right)}\\right) e^{- 1.16539802939304 \\cdot 10^{-7} t} + \\left(27.2010140090101 \\sin{\\left(0.431968976932434 x \\right)} + 2.53934617700093 \\cdot 10^{-5} \\cos{\\left(0.431968976932434 x \\right)}\\right) e^{- 1.7409032290933 \\cdot 10^{-7} t} + \\left(23.0162635185009 \\sin{\\left(0.510508790920148 x \\right)} + 2.53934848236803 \\cdot 10^{-5} \\cos{\\left(0.510508790920148 x \\right)}\\right) e^{- 2.43150946873361 \\cdot 10^{-7} t} + \\left(19.9474072550222 \\sin{\\left(0.589048604907861 x \\right)} + 2.53934579277128 \\cdot 10^{-5} \\cos{\\left(0.589048604907861 x \\right)}\\right) e^{- 3.23721674831396 \\cdot 10^{-7} t} + \\left(17.6006747655179 \\sin{\\left(0.667588418895575 x \\right)} + 2.53934886659353 \\cdot 10^{-5} \\cos{\\left(0.667588418895575 x \\right)}\\right) e^{- 4.15802506783436 \\cdot 10^{-7} t} + \\left(15.7479507132371 \\sin{\\left(0.746128232883288 x \\right)} + 2.53934540854119 \\cdot 10^{-5} \\cos{\\left(0.746128232883288 x \\right)}\\right) e^{- 5.19393442729479 \\cdot 10^{-7} t} + 65$"
      ],
      "text/plain": [
       "(299.211289920126*sin(0.039269906993858*x) + 2.53934732968718e-5*cos(0.039269906993858*x))*exp(-1.43876299925069e-9*t) + (99.7370815488355*sin(0.117809720981574*x) + 2.53934694545887e-5*cos(0.117809720981574*x))*exp(-1.29488669932562e-8*t) + (59.8422670387347*sin(0.196349534969289*x) + 2.53934771391485e-5*cos(0.196349534969289*x))*exp(-3.5969074981267e-8*t) + (42.744457053262*sin(0.274889348957004*x) + 2.53934656123012e-5*cos(0.274889348957004*x))*exp(-7.0499386963283e-8*t) + (33.2457089407928*sin(0.353429162944719*x) + 2.5393480981418e-5*cos(0.353429162944719*x))*exp(-1.16539802939304e-7*t) + (27.2010140090101*sin(0.431968976932434*x) + 2.53934617700093e-5*cos(0.431968976932434*x))*exp(-1.7409032290933e-7*t) + (23.0162635185009*sin(0.510508790920148*x) + 2.53934848236803e-5*cos(0.510508790920148*x))*exp(-2.43150946873361e-7*t) + (19.9474072550222*sin(0.589048604907861*x) + 2.53934579277128e-5*cos(0.589048604907861*x))*exp(-3.23721674831396e-7*t) + (17.6006747655179*sin(0.667588418895575*x) + 2.53934886659353e-5*cos(0.667588418895575*x))*exp(-4.15802506783436e-7*t) + (15.7479507132371*sin(0.746128232883288*x) + 2.53934540854119e-5*cos(0.746128232883288*x))*exp(-5.19393442729479e-7*t) + 65"
      ]
     },
     "execution_count": 4,
     "metadata": {},
     "output_type": "execute_result"
    }
   ],
   "source": [
    "# Semi-Analytical Method\n",
    "\n",
    "import numpy as np\n",
    "from scipy.optimize import minimize_scalar\n",
    "from math import tan, pi\n",
    "from sympy import symbols, integrate, sin, cos\n",
    "from sympy.functions import exp\n",
    "\n",
    "x = symbols('x')\n",
    "t = symbols('t')\n",
    "\n",
    "f_x = T_R0 - T_W0 # 100*(1-x/3)\n",
    "\n",
    "def MSE_mu(mu, h, L):\n",
    "    \"\"\"\n",
    "    Mean squared error between\n",
    "    -mu/h and cot(mu*L)\n",
    "    \"\"\"\n",
    "    linear = -mu/h\n",
    "    nonlinear = 1/tan(mu*L) # cotangent\n",
    "    MSE = (linear - nonlinear)**2\n",
    "    return MSE\n",
    "\n",
    "\n",
    "# generate table of equations\n",
    "num_constants = 10\n",
    "equation = 0\n",
    "\n",
    "for num_index in range(num_constants):\n",
    "    ### mu_n\n",
    "    n = num_index + 1\n",
    "    left_bound = pi*(n - 1)/L\n",
    "    right_bound = pi*(n)/L\n",
    "    answer = minimize_scalar(MSE_mu, \n",
    "                             method='bounded', \n",
    "                             bounds=(left_bound, right_bound), \n",
    "                             args=(h, L))\n",
    "    mu_n = answer.x\n",
    "    \n",
    "    \n",
    "    ### A_n\n",
    "    top = f_x * (sin(mu_n*x)-mu_n/h*cos(mu_n*x))\n",
    "    top = integrate(top, (x, L, 0))\n",
    "    \n",
    "    bottom = (sin(mu_n*x)-mu_n/h*cos(mu_n*x))**2\n",
    "    bottom = integrate(bottom, (x, L, 0))\n",
    "    \n",
    "    A_n = top/bottom\n",
    "    \n",
    "    \n",
    "    ### lambda_n\n",
    "    exponent = -mu_n**2 * kappa * t\n",
    "    \n",
    "    \n",
    "    ### equation\n",
    "    X_n = A_n*(sin(mu_n*x)-mu_n/h*cos(mu_n*x))\n",
    "    T_n = exp(exponent)\n",
    "    equation += X_n*T_n\n",
    "\n",
    "# add initial water temperature\n",
    "equation += T_W0\n",
    "\n",
    "# show equation\n",
    "equation"
   ]
  },
  {
   "cell_type": "code",
   "execution_count": 5,
   "id": "9cae8a61",
   "metadata": {},
   "outputs": [
    {
     "data": {
      "application/vnd.jupyter.widget-view+json": {
       "model_id": "9abd235747614271a75d906849b41bcb",
       "version_major": 2,
       "version_minor": 0
      },
      "text/plain": [
       "interactive(children=(FloatSlider(value=50.0, description='time'), Output()), _dom_classes=('widget-interact',…"
      ]
     },
     "metadata": {},
     "output_type": "display_data"
    }
   ],
   "source": [
    "@interact(time=(0,t_final/31536000, t_final/31536000/1000))\n",
    "def plot(time):\n",
    "    x_range = np.arange(0, L, L/100)\n",
    "    plt.plot(\n",
    "        x_range,\n",
    "        [equation.subs({'x':i, 't':time*31536000}) for i in x_range]\n",
    "    )\n",
    "    plt.ylim(T_W0,T_R0)\n",
    "    plt.show()"
   ]
  },
  {
   "cell_type": "code",
   "execution_count": 112,
   "id": "fe32cb43",
   "metadata": {},
   "outputs": [
    {
     "data": {
      "application/vnd.jupyter.widget-view+json": {
       "model_id": "08096d6b8c394bb5a6d995d7574bac09",
       "version_major": 2,
       "version_minor": 0
      },
      "text/plain": [
       "interactive(children=(FloatSlider(value=50.0, description='t_', step=1.0), Output()), _dom_classes=('widget-in…"
      ]
     },
     "metadata": {},
     "output_type": "display_data"
    }
   ],
   "source": [
    "# Error between analytical and numerical solution\n",
    "\n",
    "@interact(t_=(0,t_final/31536000, t_final/31536000/100))\n",
    "def plot(t_):\n",
    "    # analytical\n",
    "    T_analytical = [equation.subs({'x':i, 't':t_*31536000}) for i in x_array]\n",
    "    \n",
    "    # numerical\n",
    "    time = int(t_*31536000/t_final*(len_t-1))\n",
    "    T_numerical = T[time,:]\n",
    "    \n",
    "    # difference\n",
    "    T_difference = T_analytical - T_numerical\n",
    "    \n",
    "    plt.plot(\n",
    "        x_array,\n",
    "        T_difference\n",
    "    )\n",
    "    plt.show()"
   ]
  },
  {
   "cell_type": "code",
   "execution_count": 113,
   "id": "71a0274a",
   "metadata": {},
   "outputs": [
    {
     "name": "stderr",
     "output_type": "stream",
     "text": [
      "100%|█████████████████████████████████████████| 100/100 [02:28<00:00,  1.48s/it]\n"
     ]
    }
   ],
   "source": [
    "# plot difference between average temperatures between analytical and finite difference method\n",
    "water_temp_diff = []\n",
    "\n",
    "for times in tqdm(np.arange(0,31536000, 31536000/100)):\n",
    "    T_analytical = [equation.subs({'x':i, 't':times}) for i in x_array]\n",
    "    \n",
    "    time = int(times/t_final*(len_t-1))\n",
    "    T_numerical = T[time,:]\n",
    "    \n",
    "    avg_T_analytical = sum(T_analytical)/len(T_analytical)\n",
    "    avg_T_numerical = sum(T_numerical)/len(T_numerical)\n",
    "    \n",
    "    water_temp_diff.append(avg_T_analytical - avg_T_numerical)"
   ]
  },
  {
   "cell_type": "code",
   "execution_count": 26,
   "id": "43b08434",
   "metadata": {},
   "outputs": [
    {
     "data": {
      "image/png": "[encoded data removed]",
      "text/plain": [
       "<Figure size 432x288 with 1 Axes>"
      ]
     },
     "metadata": {
      "needs_background": "light"
     },
     "output_type": "display_data"
    }
   ],
   "source": [
    "plt.plot(\n",
    "    t_array[:-1]/31536000,\n",
    "    np.array(water_temp_diff)/T_R0*100\n",
    ")\n",
    "plt.title('% Temperature Difference Between Analytical and FD')\n",
    "plt.xlabel('Time (years)')\n",
    "plt.ylabel('% Temperature Difference')\n",
    "plt.show()"
   ]
  },
  {
   "cell_type": "code",
   "execution_count": 63,
   "id": "a204c354",
   "metadata": {},
   "outputs": [],
   "source": [
    "# plot nondimensionalized equation\n",
    "\n",
    "def make_nondimensional_equation(h, L):\n",
    "    global T_W0, f_x\n",
    "    equation = 0\n",
    "\n",
    "    for num_index in range(num_constants):\n",
    "        ### mu_n\n",
    "        n = num_index + 1\n",
    "        left_bound = pi*(n - 1)/L\n",
    "        right_bound = pi*(n)/L\n",
    "        answer = minimize_scalar(MSE_mu, \n",
    "                                 method='bounded', \n",
    "                                 bounds=(left_bound, right_bound), \n",
    "                                 args=(h, L))\n",
    "        mu_n = answer.x\n",
    "\n",
    "\n",
    "        ### A_n\n",
    "        top = f_x * (sin(mu_n*x)-mu_n/h*cos(mu_n*x))\n",
    "        top = integrate(top, (x, L, 0))\n",
    "\n",
    "        bottom = (sin(mu_n*x)-mu_n/h*cos(mu_n*x))**2\n",
    "        bottom = integrate(bottom, (x, L, 0))\n",
    "\n",
    "        A_n = top/bottom\n",
    "\n",
    "\n",
    "        ### lambda_n\n",
    "        exponent = -mu_n**2 * kappa * t\n",
    "\n",
    "\n",
    "        ### equation\n",
    "        X_n = A_n*(sin(mu_n*x)-mu_n/h*cos(mu_n*x))\n",
    "        T_n = exp(exponent)\n",
    "        equation += X_n*T_n\n",
    "\n",
    "    # add initial water temperature\n",
    "    equation += T_W0\n",
    "\n",
    "    # show equation\n",
    "    return equation"
   ]
  },
  {
   "cell_type": "code",
   "execution_count": 88,
   "id": "2a73b089",
   "metadata": {},
   "outputs": [],
   "source": [
    "eq_1 = make_nondimensional_equation(h=-.1 , L=40)\n",
    "eq_2 = make_nondimensional_equation(h=-1 ,L=40)\n",
    "eq_3 = make_nondimensional_equation(h=-10,L=40)"
   ]
  },
  {
   "cell_type": "code",
   "execution_count": 89,
   "id": "2b92d305",
   "metadata": {},
   "outputs": [
    {
     "data": {
      "text/plain": [
       "Text(0, 0.5, 'Dimensionless Temperature')"
      ]
     },
     "execution_count": 89,
     "metadata": {},
     "output_type": "execute_result"
    },
    {
     "data": {
      "image/png": "[encoded data removed]",
      "text/plain": [
       "<Figure size 432x288 with 1 Axes>"
      ]
     },
     "metadata": {
      "needs_background": "light"
     },
     "output_type": "display_data"
    }
   ],
   "source": [
    "theta = 80000000*31536000/(L**2/(pi**2*kappa))\n",
    "nondimensional_x_array = np.arange(0,1,1/100)\n",
    "plt.plot(\n",
    "    nondimensional_x_array,\n",
    "    (np.array([\n",
    "        [eq_1.subs({'x':i*L, 't':theta}) for i in nondimensional_x_array],\n",
    "        [eq_2.subs({'x':i*L, 't':theta}) for i in nondimensional_x_array],\n",
    "        [eq_3.subs({'x':i*L, 't':theta}) for i in nondimensional_x_array],\n",
    "    ]).T - T_W0)/(T_R0-T_W0),\n",
    ")\n",
    "plt.legend(\n",
    "[\n",
    "    'h=-0.1',\n",
    "    'h=-10',\n",
    "    'h=-100',\n",
    "])\n",
    "plt.title('Effect of h parameter')\n",
    "plt.xlabel('Dimensionless Length')\n",
    "plt.ylabel('Dimensionless Temperature')"
   ]
  },
  {
   "cell_type": "code",
   "execution_count": 92,
   "id": "0899a071",
   "metadata": {},
   "outputs": [],
   "source": [
    "eq_1 = make_nondimensional_equation(h=h, L=20)\n",
    "eq_2 = make_nondimensional_equation(h=h ,L=80)\n",
    "eq_3 = make_nondimensional_equation(h=h ,L=110)"
   ]
  },
  {
   "cell_type": "code",
   "execution_count": 95,
   "id": "6b585089",
   "metadata": {},
   "outputs": [
    {
     "data": {
      "text/plain": [
       "Text(0, 0.5, 'Dimensionless Temperature')"
      ]
     },
     "execution_count": 95,
     "metadata": {},
     "output_type": "execute_result"
    },
    {
     "data": {
      "image/png": "[encoded data removed]",
      "text/plain": [
       "<Figure size 432x288 with 1 Axes>"
      ]
     },
     "metadata": {
      "needs_background": "light"
     },
     "output_type": "display_data"
    }
   ],
   "source": [
    "nondimensional_x_array = np.arange(0,1,1/100)\n",
    "plt.plot(\n",
    "    nondimensional_x_array,\n",
    "    (np.array([\n",
    "        [eq_1.subs({'x':i*L, 't':1200000000*31536000/(1**2/(pi**2*kappa))}) for i in nondimensional_x_array],\n",
    "        [eq_2.subs({'x':i*L, 't':1200000000*31536000/(10**2/(pi**2*kappa))}) for i in nondimensional_x_array],\n",
    "        [eq_3.subs({'x':i*L, 't':1200000000*31536000/(100**2/(pi**2*kappa))}) for i in nondimensional_x_array],\n",
    "    ]).T - T_W0)/(T_R0-T_W0),\n",
    ")\n",
    "plt.legend(\n",
    "[\n",
    "    'L=20',\n",
    "    'L=80',\n",
    "    'L=110',\n",
    "])\n",
    "plt.title('Effect of L parameter')\n",
    "plt.xlabel('Dimensionless Length')\n",
    "plt.ylabel('Dimensionless Temperature')"
   ]
  },
  {
   "cell_type": "code",
   "execution_count": 106,
   "id": "5aa6242e",
   "metadata": {},
   "outputs": [
    {
     "data": {
      "text/plain": [
       "Text(0, 0.5, 'h')"
      ]
     },
     "execution_count": 106,
     "metadata": {},
     "output_type": "execute_result"
    },
    {
     "data": {
      "image/png": "[encoded data removed]",
      "text/plain": [
       "<Figure size 432x288 with 1 Axes>"
      ]
     },
     "metadata": {
      "needs_background": "light"
     },
     "output_type": "display_data"
    }
   ],
   "source": [
    "plt.plot(\n",
    "    [i for i in np.arange(-10,0,1/100)],\n",
    "    np.array([i/(i+1/2) for i in np.arange(-10,0,1/100)])\n",
    ")\n",
    "plt.ylim(1,2)\n",
    "plt.xlim(-10,-1)\n",
    "plt.title('Effect of mass flowrate on h parameter')\n",
    "plt.xlabel('m (kg/s)')\n",
    "plt.ylabel('h')"
   ]
  },
  {
   "cell_type": "code",
   "execution_count": 6,
   "id": "3782f57b",
   "metadata": {},
   "outputs": [],
   "source": [
    "# plot regular equation\n",
    "def make_equation(L, K_R, m):\n",
    "    A = 10**6\n",
    "    \n",
    "    w = m * c_W / U / A\n",
    "    kappa = K_R / rho_R / c_R\n",
    "    h = -U * A / K_R * (w / (w + 1/2))\n",
    "    \n",
    "    equation = 0\n",
    "\n",
    "    for num_index in range(num_constants):\n",
    "        ### mu_n\n",
    "        n = num_index + 1\n",
    "        left_bound = pi*(n - 1)/L\n",
    "        right_bound = pi*(n)/L\n",
    "        answer = minimize_scalar(MSE_mu, \n",
    "                                 method='bounded', \n",
    "                                 bounds=(left_bound, right_bound), \n",
    "                                 args=(h, L))\n",
    "        mu_n = answer.x\n",
    "\n",
    "\n",
    "        ### A_n\n",
    "        top = f_x * (sin(mu_n*x)-mu_n/h*cos(mu_n*x))\n",
    "        top = integrate(top, (x, L, 0))\n",
    "\n",
    "        bottom = (sin(mu_n*x)-mu_n/h*cos(mu_n*x))**2\n",
    "        bottom = integrate(bottom, (x, L, 0))\n",
    "\n",
    "        A_n = top/bottom\n",
    "\n",
    "\n",
    "        ### lambda_n\n",
    "        exponent = -mu_n**2 * kappa * t\n",
    "\n",
    "\n",
    "        ### equation\n",
    "        X_n = A_n*(sin(mu_n*x)-mu_n/h*cos(mu_n*x))\n",
    "        T_n = exp(exponent)\n",
    "        equation += X_n*T_n\n",
    "\n",
    "    # add initial water temperature\n",
    "    equation += T_W0\n",
    "\n",
    "    # show equation\n",
    "    return equation"
   ]
  },
  {
   "cell_type": "code",
   "execution_count": 15,
   "id": "c150b3e7",
   "metadata": {},
   "outputs": [],
   "source": [
    "eq_1 = make_equation(L=4, K_R=K_R, m=m)\n",
    "eq_2 = make_equation(L=40, K_R=K_R, m=m)\n",
    "eq_3 = make_equation(L=110, K_R=K_R, m=m)"
   ]
  },
  {
   "cell_type": "code",
   "execution_count": 19,
   "id": "081e96f2",
   "metadata": {},
   "outputs": [
    {
     "data": {
      "text/plain": [
       "Text(0, 0.5, 'Temperature (°C)')"
      ]
     },
     "execution_count": 19,
     "metadata": {},
     "output_type": "execute_result"
    },
    {
     "data": {
      "image/png": "[encoded data removed]",
      "text/plain": [
       "<Figure size 432x288 with 1 Axes>"
      ]
     },
     "metadata": {
      "needs_background": "light"
     },
     "output_type": "display_data"
    }
   ],
   "source": [
    "time = 12 * 31536000\n",
    "plt.plot(\n",
    "    x_array,\n",
    "    np.array([\n",
    "        [eq_1.subs({'x':i, 't':time}) for i in x_array],\n",
    "        [eq_2.subs({'x':i, 't':time}) for i in x_array],\n",
    "        [eq_3.subs({'x':i, 't':time}) for i in x_array],\n",
    "    ]).T,\n",
    ")\n",
    "plt.legend(\n",
    "[\n",
    "    'L=4',\n",
    "    'L=40',\n",
    "    'L=110',\n",
    "])\n",
    "plt.title('Effect of L parameter')\n",
    "plt.xlabel('Length of Fracture (m)')\n",
    "plt.ylabel('Temperature (°C)')"
   ]
  },
  {
   "cell_type": "code",
   "execution_count": 20,
   "id": "31a7654a",
   "metadata": {},
   "outputs": [],
   "source": [
    "eq_1 = make_equation(L=L, K_R=K_R*.1, m=m)\n",
    "eq_2 = make_equation(L=L, K_R=K_R, m=m)\n",
    "eq_3 = make_equation(L=L, K_R=K_R*10, m=m)"
   ]
  },
  {
   "cell_type": "code",
   "execution_count": 25,
   "id": "25a7830c",
   "metadata": {},
   "outputs": [
    {
     "data": {
      "text/plain": [
       "Text(0, 0.5, 'Temperature (°C)')"
      ]
     },
     "execution_count": 25,
     "metadata": {},
     "output_type": "execute_result"
    },
    {
     "data": {
      "image/png": "[encoded data removed]",
      "text/plain": [
       "<Figure size 432x288 with 1 Axes>"
      ]
     },
     "metadata": {
      "needs_background": "light"
     },
     "output_type": "display_data"
    }
   ],
   "source": [
    "time = 12 * 31536000\n",
    "plt.plot(\n",
    "    x_array,\n",
    "    np.array([\n",
    "        [eq_1.subs({'x':i, 't':time}) for i in x_array],\n",
    "        [eq_2.subs({'x':i, 't':time}) for i in x_array],\n",
    "        [eq_3.subs({'x':i, 't':time}) for i in x_array],\n",
    "    ]).T,\n",
    ")\n",
    "plt.legend(\n",
    "[\n",
    "    'K_R=.26',\n",
    "    'K_R=2.6',\n",
    "    'K_R=26',\n",
    "])\n",
    "plt.title('Effect of K_R parameter')\n",
    "plt.xlabel('Length of Fracture (m)')\n",
    "plt.ylabel('Temperature (°C)')"
   ]
  },
  {
   "cell_type": "code",
   "execution_count": 26,
   "id": "1449bc58",
   "metadata": {},
   "outputs": [],
   "source": [
    "eq_1 = make_equation(L=L, K_R=K_R, m=m*0.1)\n",
    "eq_2 = make_equation(L=L, K_R=K_R, m=m)\n",
    "eq_3 = make_equation(L=L, K_R=K_R, m=m*10)"
   ]
  },
  {
   "cell_type": "code",
   "execution_count": 31,
   "id": "37090fe2",
   "metadata": {},
   "outputs": [
    {
     "data": {
      "text/plain": [
       "Text(0, 0.5, 'Temperature (°C)')"
      ]
     },
     "execution_count": 31,
     "metadata": {},
     "output_type": "execute_result"
    },
    {
     "data": {
      "image/png": "[encoded data removed]",
      "text/plain": [
       "<Figure size 432x288 with 1 Axes>"
      ]
     },
     "metadata": {
      "needs_background": "light"
     },
     "output_type": "display_data"
    }
   ],
   "source": [
    "time = 12 * 31536000\n",
    "plt.plot(\n",
    "    x_array,\n",
    "    np.array([\n",
    "        [eq_1.subs({'x':i, 't':time}) for i in x_array],\n",
    "        [eq_2.subs({'x':i, 't':time}) for i in x_array],\n",
    "        [eq_3.subs({'x':i, 't':time}) for i in x_array],\n",
    "    ]).T,\n",
    ")\n",
    "plt.legend(\n",
    "[\n",
    "    'm=14.5',\n",
    "    'm=145',\n",
    "    'm=1450',\n",
    "])\n",
    "plt.title('Effect of m parameter')\n",
    "plt.xlabel('Length of Fracture (m)')\n",
    "plt.ylabel('Temperature (°C)')"
   ]
  },
  {
   "cell_type": "code",
   "execution_count": 29,
   "id": "3fde4933",
   "metadata": {},
   "outputs": [
    {
     "name": "stdout",
     "output_type": "stream",
     "text": [
      "14.5 145 1450\n"
     ]
    }
   ],
   "source": [
    "print(\n",
    "m/10,\n",
    "m,\n",
    "m*10)"
   ]
  },
  {
   "cell_type": "code",
   "execution_count": null,
   "id": "65a4b276",
   "metadata": {},
   "outputs": [],
   "source": []
  }
 ],
 "metadata": {
  "kernelspec": {
   "display_name": "Python 3 (ipykernel)",
   "language": "python",
   "name": "python3"
  },
  "language_info": {
   "codemirror_mode": {
    "name": "ipython",
    "version": 3
   },
   "file_extension": ".py",
   "mimetype": "text/x-python",
   "name": "python",
   "nbconvert_exporter": "python",
   "pygments_lexer": "ipython3",
   "version": "3.9.0"
  }
 },
 "nbformat": 4,
 "nbformat_minor": 5
}
